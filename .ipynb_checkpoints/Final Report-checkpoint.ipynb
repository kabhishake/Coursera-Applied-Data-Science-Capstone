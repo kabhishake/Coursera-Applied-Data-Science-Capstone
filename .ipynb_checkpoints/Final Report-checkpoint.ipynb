{
 "cells": [
  {
   "cell_type": "markdown",
   "metadata": {},
   "source": [
    "# Final Report for Capstone Project"
   ]
  },
  {
   "cell_type": "markdown",
   "metadata": {},
   "source": [
    "### 1. Introduction/Business Problem"
   ]
  },
  {
   "cell_type": "markdown",
   "metadata": {},
   "source": [
    "The number of Indian immigrants to Canada has increased substantially over the past few years.\n",
    "\n",
    "A lot of these immigrants have moved out of their country for the first time. Indian food would be a very important criteria for them while looking for a residential area.\n",
    "\n",
    "Through this project I'm attempting to find areas in Toronto that have a good concentration of Indian restaurants. I would also try to consider other aspects and recommend areas that can provide suitable accomodations to the Indian diaspora there."
   ]
  },
  {
   "cell_type": "markdown",
   "metadata": {},
   "source": [
    "### 2. Data"
   ]
  },
  {
   "cell_type": "markdown",
   "metadata": {},
   "source": [
    "For this project we need:\n",
    "1. Toronto city data with a list of Boroughs/Neighbourhoods along with their Latitudes & Longitudes\n",
    "2. Indian restaurants in the Neighbourhoods - using Foursquare API\n",
    "3. Geospace data"
   ]
  },
  {
   "cell_type": "code",
   "execution_count": null,
   "metadata": {},
   "outputs": [],
   "source": []
  }
 ],
 "metadata": {
  "kernelspec": {
   "display_name": "Python 3",
   "language": "python",
   "name": "python3"
  },
  "language_info": {
   "codemirror_mode": {
    "name": "ipython",
    "version": 3
   },
   "file_extension": ".py",
   "mimetype": "text/x-python",
   "name": "python",
   "nbconvert_exporter": "python",
   "pygments_lexer": "ipython3",
   "version": "3.8.5"
  }
 },
 "nbformat": 4,
 "nbformat_minor": 4
}
